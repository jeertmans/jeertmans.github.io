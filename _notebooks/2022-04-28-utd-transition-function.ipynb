{
 "cells": [
  {
   "cell_type": "markdown",
   "id": "107909dd",
   "metadata": {},
   "source": [
    "---\n",
    "title: \"Uniform Theory of Diffraction: how to compute the transition function\"\n",
    "categories:\n",
    "  - Blog\n",
    "tags:\n",
    "  - diffraction\n",
    "  - programming\n",
    "  - python\n",
    "---"
   ]
  },
  {
   "cell_type": "code",
   "execution_count": null,
   "id": "070cdf33",
   "metadata": {},
   "outputs": [],
   "source": [
    "import numpy as np\n",
    "import matplotlib.pyplot as plt"
   ]
  }
 ],
 "metadata": {
  "kernelspec": {
   "display_name": "Python 3 (ipykernel)",
   "language": "python",
   "name": "python3"
  },
  "language_info": {
   "codemirror_mode": {
    "name": "ipython",
    "version": 3
   },
   "file_extension": ".py",
   "mimetype": "text/x-python",
   "name": "python",
   "nbconvert_exporter": "python",
   "pygments_lexer": "ipython3",
   "version": "3.9.7"
  }
 },
 "nbformat": 4,
 "nbformat_minor": 5
}
