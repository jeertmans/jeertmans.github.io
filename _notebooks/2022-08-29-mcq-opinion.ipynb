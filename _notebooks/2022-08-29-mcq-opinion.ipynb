{
 "cells": [
  {
   "cell_type": "markdown",
   "id": "95d57ecc",
   "metadata": {},
   "source": [
    "---\n",
    "title: \"Multiple Choice Questions: An Opinion\"\n",
    "categories:\n",
    "  - University\n",
    "tags:\n",
    "  - examination\n",
    "  - opinion\n",
    "tagline: \"A Python implementation\"\n",
    "header:\n",
    "    overlay_image: /assets/images/misc/McNamara_UTD_book_cover.png\n",
    "    caption: \"Introduction to The Uniform Geometrical Theory of Diffraction - book cover\"\n",
    "search: false\n",
    "\n",
    "---\n",
    "\n",
    "Multiple choice questions, or MCQ for short, are maybe the easiest way to survey a large andience at a very low human cost. Within the context of this blog post, I will talk about MCQ in the frame of university's exams.\n",
    "\n",
    "In their most fundamental form, a multiple choice question consist of one question, and multiple answer, one of which is considered as *correct*.\n",
    "\n",
    "Notheless, variants exist, such as multiple correct answers, and how much a correct answer is valued can also vary."
   ]
  },
  {
   "cell_type": "code",
   "execution_count": null,
   "id": "097238ef",
   "metadata": {},
   "outputs": [],
   "source": [
    "# Package imports\n",
    "\n",
    "import numpy as np\n",
    "import scipy.special as sc\n",
    "import math\n",
    "import matplotlib.pyplot as plt\n",
    "\n",
    "from matplotlib_inline.backend_inline import set_matplotlib_formats\n",
    "\n",
    "set_matplotlib_formats(\"svg\")"
   ]
  },
  {
   "cell_type": "code",
   "execution_count": null,
   "id": "dfa47b58",
   "metadata": {},
   "outputs": [],
   "source": [
    "def cumulative_py(n, k, p=0.25):\n",
    "    k = int(k)\n",
    "    q = 1 - p\n",
    "    s = 0\n",
    "    for i in range(k + 1):\n",
    "        s += math.comb(n, i) * (p**i) * (q ** (n - i))\n",
    "    return s\n",
    "\n",
    "\n",
    "def cumulative(n, k, p=0.25):\n",
    "    k = np.floor(k)\n",
    "    return sc.betainc(n - k, 1 + k, 1 - p)"
   ]
  },
  {
   "cell_type": "code",
   "execution_count": null,
   "id": "809f860c",
   "metadata": {},
   "outputs": [],
   "source": [
    "def success(n, p):\n",
    "    k = np.ceil(n / 2) - 1  # score <= k, we fail the test\n",
    "    return 1 - cumulative(n, k, p)"
   ]
  },
  {
   "cell_type": "code",
   "execution_count": null,
   "id": "17f9439e",
   "metadata": {},
   "outputs": [],
   "source": [
    "n_questions = np.arange(10, 41, 2)\n",
    "\n",
    "fig, ax1 = plt.subplots(figsize=(10, 6.5))\n",
    "ax2 = plt.twinx()\n",
    "\n",
    "for n_choices in range(2, 8):\n",
    "    proba = success(n_questions, 1 / n_choices)\n",
    "    ax1.semilogy(n_questions, proba, label=str(n_choices))\n",
    "    ax2.semilogy(n_questions, proba, color=None)\n",
    "\n",
    "ax2.set_yticks([1e0, 1e-1, 1e-2, 1e-3, 1e-4, 1e-5, 1e-6, 1e-7])\n",
    "ax2.set_yticklabels(\n",
    "    [\n",
    "        \"1000 students\",\n",
    "        \"100 students\",\n",
    "        \"10 students\",\n",
    "        \"1 student\",\n",
    "        \"0.1 student\",\n",
    "        \"0.01 student\",\n",
    "        \"0.001 student\",\n",
    "        \"0.0001 student\",\n",
    "    ]\n",
    ")\n",
    "\n",
    "ax1.set_xlabel(\"Number of questions\")\n",
    "ax1.set_ylabel(\"Probability of passing the test randomly, per student\")\n",
    "ax2.set_ylabel(\n",
    "    \"Average number of students passing the test, in a class of 1000 students\"\n",
    ")\n",
    "ax1.grid(True, which=\"both\")\n",
    "ax1.legend(title=\"Number of choices per question\");"
   ]
  },
  {
   "cell_type": "markdown",
   "id": "30a89a2a",
   "metadata": {},
   "source": [
    "As a verification, we obtain the same results as in the reference book (Figure 4.16, Page 185)."
   ]
  },
  {
   "cell_type": "markdown",
   "id": "c7fdaf87",
   "metadata": {},
   "source": [
    "# References\n",
    "\n",
    "<style>\n",
    "  .bibref::after {\n",
    "    content:  attr(href);\n",
    "  }\n",
    "</style>\n",
    "\n",
    "\n",
    "<div class=\"csl-bib-body\">\n",
    "  <div data-csl-entry-id=\"mcnamara1990introduction\" class=\"csl-entry\">McNamara, D. A., Pistorius, C. W. I., &#38; Malherbe, J. A. G. (1990). <i>Introduction to the Uniform Geometrical Theory of Diffraction</i>. Artech House. <a class=\"bibref\" href=\"https://www.academia.edu/27926436/Theory_of_Diffraction_INTRODUCTION_TO_The_Uniform_Geometrical\" ></a>\n",
    "  </div>\n",
    "</div>"
   ]
  }
 ],
 "metadata": {
  "kernelspec": {
   "display_name": "Python 3 (ipykernel)",
   "language": "python",
   "name": "python3"
  },
  "language_info": {
   "codemirror_mode": {
    "name": "ipython",
    "version": 3
   },
   "file_extension": ".py",
   "mimetype": "text/x-python",
   "name": "python",
   "nbconvert_exporter": "python",
   "pygments_lexer": "ipython3",
   "version": "3.10.4"
  }
 },
 "nbformat": 4,
 "nbformat_minor": 5
}
