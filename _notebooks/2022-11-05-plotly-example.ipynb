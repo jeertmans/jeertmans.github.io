{
 "cells": [
  {
   "cell_type": "markdown",
   "id": "cc5f6bf6",
   "metadata": {},
   "source": [
    "---\n",
    "title: \"Embedding Plotly in a Jekyll Post\"\n",
    "categories:\n",
    "  - Blog\n",
    "tags:\n",
    "  - programming\n",
    "  - python\n",
    "published: true\n",
    "\n",
    "---\n",
    "\n",
    "This blog post serves as a demo to show that Plotly's interactive graphics can be embedded inside posts.\n",
    "\n",
    "A more detailed tutorial might follow."
   ]
  },
  {
   "cell_type": "code",
   "execution_count": 3,
   "id": "23b8d5d5",
   "metadata": {},
   "outputs": [],
   "source": [
    "from plotting import express as px"
   ]
  },
  {
   "cell_type": "code",
   "execution_count": 4,
   "id": "5485b233",
   "metadata": {},
   "outputs": [
    {
     "data": {
      "text/html": [
       "<iframe\n",
       "    scrolling=\"no\"\n",
       "    width=\"100%\"\n",
       "    height=\"545px\"\n",
       "    src=\"../assets/images/162aa03b-548a-4714-94a8-b55fc31c9296/figure_4.html\"\n",
       "    frameborder=\"0\"\n",
       "    allowfullscreen\n",
       "></iframe>\n"
      ]
     },
     "metadata": {},
     "output_type": "display_data"
    }
   ],
   "source": [
    "# Example from: https://plotly.com/python/sliders/\n",
    "\n",
    "df = px.data.gapminder()\n",
    "fig = px.scatter(df, x=\"gdpPercap\", y=\"lifeExp\", animation_frame=\"year\", animation_group=\"country\",\n",
    "           size=\"pop\", color=\"continent\", hover_name=\"country\",\n",
    "           log_x=True, size_max=55, range_x=[100,100000], range_y=[25,90])\n",
    "\n",
    "fig[\"layout\"].pop(\"updatemenus\") # optional, drop animation buttons\n",
    "fig.show()"
   ]
  },
  {
   "cell_type": "code",
   "execution_count": null,
   "id": "e12d8f20",
   "metadata": {},
   "outputs": [],
   "source": []
  }
 ],
 "metadata": {
  "kernelspec": {
   "display_name": "Python 3 (ipykernel)",
   "language": "python",
   "name": "python3"
  },
  "language_info": {
   "codemirror_mode": {
    "name": "ipython",
    "version": 3
   },
   "file_extension": ".py",
   "mimetype": "text/x-python",
   "name": "python",
   "nbconvert_exporter": "python",
   "pygments_lexer": "ipython3",
   "version": "3.10.6"
  }
 },
 "nbformat": 4,
 "nbformat_minor": 5
}
