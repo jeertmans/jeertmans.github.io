{
 "cells": [
  {
   "cell_type": "markdown",
   "id": "cc5f6bf6",
   "metadata": {},
   "source": [
    "---\n",
    "title: \"Embedding Plotly in a Jekyll Post\"\n",
    "categories:\n",
    "  - Blog\n",
    "tags:\n",
    "  - programming\n",
    "  - python\n",
    "\n",
    "---\n",
    "\n",
    "Yes, you can include Plotly's interactive graphics inside your posts, and here is how!\n",
    "\n",
    "\n",
    "\n",
    "By default, all notebooks are rendered into posts as a two steps process:\n",
    "\n",
    "1. The `jupyter nbconvert` command-line tool is used to convert all notebooks into markdown files\n",
    "2. Markdown files in the `_posts` directory all then all converted into posts, with Jekyll\n",
    "\n",
    "More details on how to convert notebooks into posts will be avaible in a separate blog post.\n",
    "\n",
    "The challenge with Plotly graphics is that they are HTML images with Javascript. Thus, directly including the HTML code in the markdown output causes some issues with the Liquid templating system. This is because the generated Javascript contains curly braces, which Liquid tries to interpret.\n",
    "\n",
    "To solve with this issue, an easy solution is to use the `iframe_connected` renderer, that will generate the image in a separate HTML file, them include it in the post. This small generated HTML, i.e., the `iframe` include, does not cause any problem with Liquid templating.\n",
    "\n",
    "Then, as for other images, it's a matter of keeping paths to files valid when moving the generated Markdown files to `_posts`.\n",
    "\n",
    "For more detailes on how to configure Plotly's appearance, see [plotting.py](https://github.com/jeertmans/jeertmans.github.io/blob/main/_notebooks/plotting.py).\n",
    "\n",
    "Sadly, switching between light and dark themes is not possible for the moment...\n",
    "\n",
    "A more detailed tutorial might follow."
   ]
  },
  {
   "cell_type": "code",
   "execution_count": null,
   "id": "1d1a5dfa",
   "metadata": {},
   "outputs": [],
   "source": [
    "import pandas as pd\n",
    "from plotting import express as px, graph_objects as go\n",
    "from plotting import CONFIG"
   ]
  },
  {
   "cell_type": "code",
   "execution_count": null,
   "id": "5485b233",
   "metadata": {},
   "outputs": [],
   "source": [
    "# Example from: https://plotly.com/python/sliders/\n",
    "\n",
    "df = px.data.gapminder()\n",
    "fig = px.scatter(\n",
    "    df,\n",
    "    x=\"gdpPercap\",\n",
    "    y=\"lifeExp\",\n",
    "    animation_frame=\"year\",\n",
    "    animation_group=\"country\",\n",
    "    size=\"pop\",\n",
    "    color=\"continent\",\n",
    "    hover_name=\"country\",\n",
    "    log_x=True,\n",
    "    size_max=55,\n",
    "    range_x=[100, 100000],\n",
    "    range_y=[25, 90],\n",
    ")\n",
    "\n",
    "fig.show(config=CONFIG)"
   ]
  },
  {
   "cell_type": "code",
   "execution_count": null,
   "id": "52c10d30",
   "metadata": {},
   "outputs": [],
   "source": [
    "# Example from: https://plotly.com/python/time-series/\n",
    "\n",
    "df = pd.read_csv(\n",
    "    \"https://raw.githubusercontent.com/plotly/datasets/master/finance-charts-apple.csv\"\n",
    ")\n",
    "\n",
    "fig = go.Figure(go.Scatter(x=df[\"Date\"], y=df[\"mavg\"]))\n",
    "\n",
    "fig.update_xaxes(\n",
    "    rangeslider_visible=True,\n",
    "    tickformatstops=[\n",
    "        dict(dtickrange=[None, 1000], value=\"%H:%M:%S.%L ms\"),\n",
    "        dict(dtickrange=[1000, 60000], value=\"%H:%M:%S s\"),\n",
    "        dict(dtickrange=[60000, 3600000], value=\"%H:%M m\"),\n",
    "        dict(dtickrange=[3600000, 86400000], value=\"%H:%M h\"),\n",
    "        dict(dtickrange=[86400000, 604800000], value=\"%e. %b d\"),\n",
    "        dict(dtickrange=[604800000, \"M1\"], value=\"%e. %b w\"),\n",
    "        dict(dtickrange=[\"M1\", \"M12\"], value=\"%b '%y M\"),\n",
    "        dict(dtickrange=[\"M12\", None], value=\"%Y Y\"),\n",
    "    ],\n",
    ")\n",
    "\n",
    "fig.show(config=CONFIG)"
   ]
  },
  {
   "cell_type": "code",
   "execution_count": null,
   "id": "a4cc3dda",
   "metadata": {},
   "outputs": [],
   "source": [
    "# Example from: https://plotly.com/python/3d-surface-plots/\n",
    "\n",
    "# Read data from a csv\n",
    "z_data = pd.read_csv(\n",
    "    \"https://raw.githubusercontent.com/plotly/datasets/master/api_docs/mt_bruno_elevation.csv\"\n",
    ")\n",
    "\n",
    "fig = go.Figure(data=[go.Surface(z=z_data.values)])\n",
    "fig.update_traces(\n",
    "    contours_z=dict(\n",
    "        show=True, usecolormap=True, highlightcolor=\"limegreen\", project_z=True\n",
    "    )\n",
    ")\n",
    "fig.update_layout(\n",
    "    title=\"Mt Bruno Elevation\",\n",
    "    autosize=False,\n",
    "    scene_camera_eye=dict(x=1.87, y=0.88, z=-0.64),\n",
    "    width=500,\n",
    "    height=500,\n",
    "    margin=dict(l=65, r=50, b=65, t=90),\n",
    ")\n",
    "\n",
    "fig.show(config=CONFIG)"
   ]
  },
  {
   "cell_type": "code",
   "execution_count": null,
   "id": "fc3fb5cc",
   "metadata": {},
   "outputs": [],
   "source": []
  }
 ],
 "metadata": {
  "kernelspec": {
   "display_name": "Python 3 (ipykernel)",
   "language": "python",
   "name": "python3"
  },
  "language_info": {
   "codemirror_mode": {
    "name": "ipython",
    "version": 3
   },
   "file_extension": ".py",
   "mimetype": "text/x-python",
   "name": "python",
   "nbconvert_exporter": "python",
   "pygments_lexer": "ipython3",
   "version": "3.10.4"
  }
 },
 "nbformat": 4,
 "nbformat_minor": 5
}
