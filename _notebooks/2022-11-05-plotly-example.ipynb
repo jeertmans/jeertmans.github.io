{
 "cells": [
  {
   "cell_type": "markdown",
   "id": "cc5f6bf6",
   "metadata": {},
   "source": [
    "---\n",
    "title: \"Embedding Plotly in a Jekyll Post\"\n",
    "categories:\n",
    "  - Blog\n",
    "tags:\n",
    "  - programming\n",
    "  - python\n",
    "published: true\n",
    "\n",
    "---\n",
    "\n",
    "This blog post serves as a demo to show that Plotly's interactive graphics can be embedded inside posts.\n",
    "\n",
    "Sadly, switching between light and dark themes is not possible for the moment...\n",
    "\n",
    "A more detailed tutorial might follow."
   ]
  },
  {
   "cell_type": "code",
   "execution_count": null,
   "id": "d775a541",
   "metadata": {},
   "outputs": [],
   "source": [
    "from plotting import express as px\n",
    "from plotting import CONFIG"
   ]
  },
  {
   "cell_type": "code",
   "execution_count": null,
   "id": "5485b233",
   "metadata": {},
   "outputs": [],
   "source": [
    "# Example from: https://plotly.com/python/sliders/\n",
    "\n",
    "df = px.data.gapminder()\n",
    "fig = px.scatter(\n",
    "    df,\n",
    "    x=\"gdpPercap\",\n",
    "    y=\"lifeExp\",\n",
    "    animation_frame=\"year\",\n",
    "    animation_group=\"country\",\n",
    "    size=\"pop\",\n",
    "    color=\"continent\",\n",
    "    hover_name=\"country\",\n",
    "    log_x=True,\n",
    "    size_max=55,\n",
    "    range_x=[100, 100000],\n",
    "    range_y=[25, 90],\n",
    ")\n",
    "\n",
    "fig.show(config=CONFIG)"
   ]
  }
 ],
 "metadata": {
  "kernelspec": {
   "display_name": "Python 3 (ipykernel)",
   "language": "python",
   "name": "python3"
  },
  "language_info": {
   "codemirror_mode": {
    "name": "ipython",
    "version": 3
   },
   "file_extension": ".py",
   "mimetype": "text/x-python",
   "name": "python",
   "nbconvert_exporter": "python",
   "pygments_lexer": "ipython3",
   "version": "3.10.6"
  }
 },
 "nbformat": 4,
 "nbformat_minor": 5
}
